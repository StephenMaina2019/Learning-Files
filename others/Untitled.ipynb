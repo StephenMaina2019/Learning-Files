{
 "cells": [
  {
   "cell_type": "code",
   "execution_count": 3,
   "metadata": {},
   "outputs": [
    {
     "name": "stdout",
     "output_type": "stream",
     "text": [
      "Dwight - Salesman\n",
      "\n"
     ]
    }
   ],
   "source": [
    "employee_file = open(\"employees.txt\", \"r\")#reading info\n",
    "#print(employee_file.readable())\n",
    "#print(employee_file.read())\n",
    "print(employee_file.readlines()[1])\n",
    "#open(\"employees.txt\", \"r\") #writing the file\n",
    "#open(\"employees.txt\", \"a\") #appending\n",
    "#open(\"employees.txt\", \"r+\") #reading and writing\n",
    "employee_file.close()"
   ]
  },
  {
   "cell_type": "code",
   "execution_count": null,
   "metadata": {},
   "outputs": [],
   "source": []
  }
 ],
 "metadata": {
  "kernelspec": {
   "display_name": "Python 3",
   "language": "python",
   "name": "python3"
  },
  "language_info": {
   "codemirror_mode": {
    "name": "ipython",
    "version": 3
   },
   "file_extension": ".py",
   "mimetype": "text/x-python",
   "name": "python",
   "nbconvert_exporter": "python",
   "pygments_lexer": "ipython3",
   "version": "3.7.6"
  }
 },
 "nbformat": 4,
 "nbformat_minor": 4
}
